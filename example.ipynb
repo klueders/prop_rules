{
 "cells": [
  {
   "attachments": {},
   "cell_type": "markdown",
   "metadata": {},
   "source": [
    "## Rule-based Classification: Proportionality\n",
    "\n",
    "Kilian Lüders & Bent Stohlmann\n",
    "\n",
    "### Explanation:\n",
    "Our rule-based classifier builds on linguistic features such as word types and morphological information, using language models from Spacy. For our classification, the availability of morphological features was crucial to identify, for example, whether sentences were written in the subjunctive. In this way, we contribute to the growing literature that exploits the potential of part-of-speech tags, dependency parsing, and lexical and syntactic annotations for classification tasks.\n",
    "\n",
    "\n",
    "The rules were made by legal experts, using their knowledge from the annotation. During the annotation, extensive experience was gained regarding the wording used by the court when talking about the proportionality test. Based on the annotation and the decisions made therein, the rules for the classifier were built.\n",
    "\n",
    "\n",
    "The classifier checks each sentence individually. Only sentences not in the subjunctive are considered because sentences in the disjunctive are statements of views the court does not adopt as its own. Subsequently, two steps are taken: First, the classifier identifies potentially relevant sentences using regex. Sentences with words that indicate a proportionality test, such as Verhältnismäßigkeit (proportionality), its synonyms (e.g. Übermaßverbot) or the names of the steps. Second, these sentences are analyzed linguistically in more detail. With the help of the linguistic information, the list of potentially relevant sentences is reviewed, and phrases that do not indicate an occurrence of the proportionality test are sorted out."
   ]
  },
  {
   "cell_type": "code",
   "execution_count": 1,
   "metadata": {},
   "outputs": [],
   "source": [
    "import rule_based_classification as rbc"
   ]
  },
  {
   "cell_type": "code",
   "execution_count": 2,
   "metadata": {},
   "outputs": [],
   "source": [
    "example_1 = '''(a) Zwar bestehen - in abnehmendem Maße - bis heute zwischen den neuen und den alten Ländern Unterschiede hinsichtlich der Betreuungsquote.\n",
    "Deren Bedeutung relativiert sich allerdings, wenn sie ins Verhältnis zum insofern ebenfalls differierenden Betreuungsbedarf gesetzt werden\n",
    "(vgl. zum Ganzen Bundesministerium für Familie, Senioren, Frauen und Jugend <Hrsg.>, Fünfter Bericht zur Evaluation des Kinderförderungsgesetzes, März 2015, Kurzfassung S. 1 - 2; Langfassung S. 6 ff.).\n",
    "Ungeachtet der Frage, ob damit hinsichtlich der Verfügbarkeit von öffentlich geförderten Betreuungsplätzen überhaupt eine nach Art. 72 Abs. 2 GG\n",
    "relevante Schlechterstellung der Einwohner bestimmter Länder vorliegt, bezweckt das Betreuungsgeld aber nicht, etwaige Engpässe bei der Verfügbarkeit\n",
    "von Betreuungsplätzen für Kleinkinder zu beheben. Es ist dafür auch weder geeignet noch erforderlich.'''\n",
    "# Source: https://www.bundesverfassungsgericht.de/SharedDocs/Entscheidungen/DE/2015/07/fs20150721_1bvf000213.html\n",
    "\n",
    "example_2 = '''a) Dem Verhältnismäßigkeitsgrundsatz im engeren Sinne als Übermaßverbot genügen die Kennzeichenkontrollen nur,\n",
    "wenn der mit ihnen verfolgte Zweck zu dem in ihnen liegenden Eingriffsgewicht nicht außer Verhältnis steht.\n",
    "Erforderlich ist danach, dass die Kontrollen grundsätzlich jeweils durch einen hinreichend konkreten, objektiv bestimmten Grund veranlasst sind (aa)\n",
    "und dem Schutz von Rechtsgütern von zumindest erheblichem Gewicht oder einem vergleichbar gewichtigen öffentlichen Interesse dienen (bb).\n",
    "Dabei muss sich die gesetzliche Ausgestaltung der Kennzeichenkontrolle in einer Gesamtabwägung der sie kennzeichnenden Umstände\n",
    "als im Blick auf das Grundrecht auf informationelle Selbstbestimmung zumutbar und damit verfassungsrechtlich tragfähig erweisen (cc).\n",
    "Im Übrigen gehören zu den Verhältnismäßigkeitsanforderungen übergreifend für alle Einzeltatbestände Anforderungen an Transparenz, individuellen Rechtsschutz\n",
    "und aufsichtliche Kontrolle sowie Regelungen zur Datennutzung und Löschung (dd).'''\n",
    "# Source: https://www.bundesverfassungsgericht.de/SharedDocs/Entscheidungen/DE/2018/12/rs20181218_1bvr014215.htm"
   ]
  },
  {
   "cell_type": "code",
   "execution_count": 3,
   "metadata": {},
   "outputs": [
    {
     "data": {
      "text/plain": [
       "True"
      ]
     },
     "execution_count": 3,
     "metadata": {},
     "output_type": "execute_result"
    }
   ],
   "source": [
    "## check for proportionality: example 1\n",
    "# input: entscheidung_name: decision name & entscheidungs_text: text\n",
    "\n",
    "rbc.check_entscheidung(entscheidung_name=\"fs20150721_1bvf000213\", entscheidungs_text=example_1)"
   ]
  },
  {
   "cell_type": "code",
   "execution_count": 4,
   "metadata": {},
   "outputs": [
    {
     "data": {
      "text/plain": [
       "True"
      ]
     },
     "execution_count": 4,
     "metadata": {},
     "output_type": "execute_result"
    }
   ],
   "source": [
    "## check for proportionality: example 2\n",
    "\n",
    "rbc.check_entscheidung(entscheidung_name=\"fs20150721_1bvf000213\", entscheidungs_text=example_2)"
   ]
  },
  {
   "cell_type": "code",
   "execution_count": 5,
   "metadata": {},
   "outputs": [
    {
     "name": "stdout",
     "output_type": "stream",
     "text": [
      "True\n"
     ]
    },
    {
     "data": {
      "text/html": [
       "<div>\n",
       "<style scoped>\n",
       "    .dataframe tbody tr th:only-of-type {\n",
       "        vertical-align: middle;\n",
       "    }\n",
       "\n",
       "    .dataframe tbody tr th {\n",
       "        vertical-align: top;\n",
       "    }\n",
       "\n",
       "    .dataframe thead th {\n",
       "        text-align: right;\n",
       "    }\n",
       "</style>\n",
       "<table border=\"1\" class=\"dataframe\">\n",
       "  <thead>\n",
       "    <tr style=\"text-align: right;\">\n",
       "      <th></th>\n",
       "      <th>id</th>\n",
       "      <th>file</th>\n",
       "      <th>sent_i</th>\n",
       "      <th>text_raw</th>\n",
       "      <th>doc</th>\n",
       "      <th>relevant_vhmk</th>\n",
       "      <th>relevant_stufen</th>\n",
       "      <th>relevant_uebermass</th>\n",
       "      <th>is_konjunktiv</th>\n",
       "      <th>is_erfge_adja</th>\n",
       "      <th>is_erfge_adja_mittel</th>\n",
       "      <th>is_vhmk_adjd</th>\n",
       "      <th>is_vhmk_erschwert</th>\n",
       "    </tr>\n",
       "  </thead>\n",
       "  <tbody>\n",
       "    <tr>\n",
       "      <th>4</th>\n",
       "      <td>rs20181218_1bvr014215_5</td>\n",
       "      <td>rs20181218_1bvr014215</td>\n",
       "      <td>5</td>\n",
       "      <td>Es ist dafür auch weder geeignet noch erforder...</td>\n",
       "      <td>(Es, ist, dafür, auch, weder, geeignet, noch, ...</td>\n",
       "      <td>False</td>\n",
       "      <td>True</td>\n",
       "      <td>False</td>\n",
       "      <td>False</td>\n",
       "      <td>False</td>\n",
       "      <td>False</td>\n",
       "      <td>False</td>\n",
       "      <td>False</td>\n",
       "    </tr>\n",
       "  </tbody>\n",
       "</table>\n",
       "</div>"
      ],
      "text/plain": [
       "                        id                   file  sent_i  \\\n",
       "4  rs20181218_1bvr014215_5  rs20181218_1bvr014215       5   \n",
       "\n",
       "                                            text_raw  \\\n",
       "4  Es ist dafür auch weder geeignet noch erforder...   \n",
       "\n",
       "                                                 doc  relevant_vhmk  \\\n",
       "4  (Es, ist, dafür, auch, weder, geeignet, noch, ...          False   \n",
       "\n",
       "   relevant_stufen  relevant_uebermass  is_konjunktiv  is_erfge_adja  \\\n",
       "4             True               False          False          False   \n",
       "\n",
       "   is_erfge_adja_mittel  is_vhmk_adjd  is_vhmk_erschwert  \n",
       "4                 False         False              False  "
      ]
     },
     "execution_count": 5,
     "metadata": {},
     "output_type": "execute_result"
    }
   ],
   "source": [
    "## to understand the classification of a document, you can also output a dataframe with the relevant sentences:\n",
    "\n",
    "result, dataframe = rbc.check_entscheidung(entscheidung_name=\"rs20181218_1bvr014215\", entscheidungs_text=example_1, return_df=True)\n",
    "\n",
    "print(result)\n",
    "dataframe"
   ]
  }
 ],
 "metadata": {
  "kernelspec": {
   "display_name": "Python 3",
   "language": "python",
   "name": "python3"
  },
  "language_info": {
   "codemirror_mode": {
    "name": "ipython",
    "version": 3
   },
   "file_extension": ".py",
   "mimetype": "text/x-python",
   "name": "python",
   "nbconvert_exporter": "python",
   "pygments_lexer": "ipython3",
   "version": "3.10.12"
  },
  "orig_nbformat": 4
 },
 "nbformat": 4,
 "nbformat_minor": 2
}
